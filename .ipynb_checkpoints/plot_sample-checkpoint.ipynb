{
 "cells": [
  {
   "cell_type": "code",
   "execution_count": 1,
   "metadata": {},
   "outputs": [],
   "source": [
    "import pandas as pd\n",
    "import numpy as np\n",
    "import matplotlib.pyplot as plt\n",
    "from scipy import stats"
   ]
  },
  {
   "cell_type": "code",
   "execution_count": null,
   "metadata": {},
   "outputs": [],
   "source": [
    "# .csv file example\n",
    "# | WAR | BUDGET |\n",
    "# |  1  |   1    |\n",
    "# |  2  |   2    |\n",
    "#      ...\n",
    "# |  n  |   n    |\n",
    "\n",
    "dfData = read_csv(\"\")# filename in \"\"\n",
    "\n",
    "beta, alpha, rvalue, pvalue, stderr = stats.linregress(dfData[\"BUDGET\"], dfData[\"WAR\"])\n",
    "\n",
    "x = np.arrange(min(dfData[\"BUDGET\"]), max(dfData[\"BUDGET\"]), 100000)\n",
    "fig, ax = plt.subplots(nrows = 1, ncols = 1, figsize = (8, 4))\n",
    "plt.plot(x, alpha + beta * x, color = \"steelblue\", lw = 3, label = \"linear model\")\n",
    "plt.scatter(dfData[\"BUDGET\"], dfData[\"WAR\"], color=\"steelblue\", label='data')\n",
    "plt.legend()\n",
    "ax.set_xlabel(\"Total Budget of a Team\")\n",
    "ax.set_ylabel(\"Total WAR\")\n",
    "plt.show()"
   ]
  },
  {
   "cell_type": "code",
   "execution_count": null,
   "metadata": {},
   "outputs": [],
   "source": []
  }
 ],
 "metadata": {
  "kernelspec": {
   "display_name": "Python 3",
   "language": "python",
   "name": "python3"
  },
  "language_info": {
   "codemirror_mode": {
    "name": "ipython",
    "version": 3
   },
   "file_extension": ".py",
   "mimetype": "text/x-python",
   "name": "python",
   "nbconvert_exporter": "python",
   "pygments_lexer": "ipython3",
   "version": "3.6.5"
  }
 },
 "nbformat": 4,
 "nbformat_minor": 2
}
